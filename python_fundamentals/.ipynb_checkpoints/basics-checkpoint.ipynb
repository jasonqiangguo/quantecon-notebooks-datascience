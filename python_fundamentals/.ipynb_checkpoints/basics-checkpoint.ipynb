{
 "cells": [
  {
   "cell_type": "markdown",
   "metadata": {},
   "source": [
    "# Basics\n",
    "\n",
    "**Prerequisites**\n",
    "\n",
    "- [Getting Started](introduction/getting_started.ipynb)  \n",
    "\n",
    "\n",
    "**Outcomes**\n",
    "\n",
    "- Programming concepts  \n",
    "  \n",
    "  - Understand variable assignment  \n",
    "  - Know what a function is and how to figure out what it does  \n",
    "  - Be able to use tab completion  \n",
    "  \n",
    "- Numbers in Python  \n",
    "  \n",
    "  - Understand how Python represents numbers  \n",
    "  - Know the distinction between `int` and `float`  \n",
    "  - Be familiar with various binary operators for numbers  \n",
    "  - Introduction to the `math` library  \n",
    "  \n",
    "- Text (strings) in Python  \n",
    "  \n",
    "  - Understand what a string is and when it is useful  \n",
    "  - Learn some of the methods associated with strings  \n",
    "  - Combining strings and output  \n",
    "  \n",
    "- True and False (booleans) in Python  \n",
    "  \n",
    "  - Understand what a boolean is  \n",
    "  - Become familiar with all binary operators that return booleans  "
   ]
  },
  {
   "cell_type": "markdown",
   "metadata": {},
   "source": [
    "## Outline\n",
    "\n",
    "- [Basics](#Basics)  \n",
    "  - [First Steps](#First-Steps)  \n",
    "  - [Functions](#Functions)  \n",
    "  - [Objects and types](#Objects-and-types)  \n",
    "  - [Modules](#Modules)  \n",
    "  - [Good code habits](#Good-code-habits)  \n",
    "  - [Numbers](#Numbers)  \n",
    "  - [Strings](#Strings)  \n",
    "  - [Booleans](#Booleans)  \n",
    "  - [Exercises](#Exercises)  "
   ]
  },
  {
   "cell_type": "markdown",
   "metadata": {},
   "source": [
    "## First Steps\n",
    "\n",
    "We are ready to actually begin writing code!\n",
    "\n",
    "In this section, we will teach you some of the basic concepts of programming\n",
    "and give you an idea of where you can search for help"
   ]
  },
  {
   "cell_type": "markdown",
   "metadata": {},
   "source": [
    "### Variable Assignment\n",
    "\n",
    "The first thing we will learn is the idea of *variable assignment*\n",
    "\n",
    "Variable assignment associates some value to a variable\n",
    "\n",
    "Below we assign the value “Hello World” to the variable `x`"
   ]
  },
  {
   "cell_type": "code",
   "execution_count": 1,
   "metadata": {
    "hide-output": false
   },
   "outputs": [],
   "source": [
    "x = \"Hello World\""
   ]
  },
  {
   "cell_type": "markdown",
   "metadata": {},
   "source": [
    "Once we have assigned a value to a variable then Python will remember this\n",
    "variable as long as the *current* session of Python is still running\n",
    "\n",
    "Notice below how when we write `x` into the prompt that it outputs the value\n",
    "“Hello World”"
   ]
  },
  {
   "cell_type": "code",
   "execution_count": 2,
   "metadata": {
    "hide-output": false
   },
   "outputs": [
    {
     "data": {
      "text/plain": [
       "'Hello World'"
      ]
     },
     "execution_count": 2,
     "metadata": {},
     "output_type": "execute_result"
    }
   ],
   "source": [
    "x"
   ]
  },
  {
   "cell_type": "markdown",
   "metadata": {},
   "source": [
    "However, Python returns an error if we ask it about variables that have not yet\n",
    "been created"
   ]
  },
  {
   "cell_type": "code",
   "execution_count": 16,
   "metadata": {
    "hide-output": false
   },
   "outputs": [
    {
     "name": "stdout",
     "output_type": "stream",
     "text": [
      "z is 7\n"
     ]
    }
   ],
   "source": [
    "z = 3\n",
    "z = z + 4\n",
    "print(\"z is\", z)"
   ]
  },
  {
   "cell_type": "markdown",
   "metadata": {},
   "source": [
    "It is useful to understand the order in which operations happen\n",
    "\n",
    "First, whatever is to the right of the equal sign is computed\n",
    "\n",
    "Then, the computed value is stored as the variable to the left of the\n",
    "equal sign\n",
    "\n",
    "\n",
    "<a id='exercise-0'></a>\n",
    "> See exercise 1 in the [*exercise list*](#exerciselist-0)\n",
    "\n",
    "\n",
    "Keep in mind that the variable is simply a binding of a name to something stored\n",
    "in memory\n",
    "\n",
    "The name can be bound to something of a completely different type"
   ]
  },
  {
   "cell_type": "code",
   "execution_count": 4,
   "metadata": {
    "hide-output": false
   },
   "outputs": [
    {
     "name": "stdout",
     "output_type": "stream",
     "text": [
      "2\n",
      "something else\n"
     ]
    }
   ],
   "source": [
    "x = 2\n",
    "print(x)\n",
    "x = \"something else\"\n",
    "print(x)"
   ]
  },
  {
   "cell_type": "markdown",
   "metadata": {},
   "source": [
    "### Code comments\n",
    "\n",
    "Comments are short notes that you leave for yourself and others who read your\n",
    "code\n",
    "\n",
    "They should be used to explain what the code does\n",
    "\n",
    "A comment is made with the `#`.\n",
    "\n",
    "Python will ignore everything in a line that follows a `#`\n",
    "\n",
    "Let’s practice making some comments"
   ]
  },
  {
   "cell_type": "code",
   "execution_count": 5,
   "metadata": {
    "hide-output": false
   },
   "outputs": [
    {
     "data": {
      "text/plain": [
       "3"
      ]
     },
     "execution_count": 5,
     "metadata": {},
     "output_type": "execute_result"
    }
   ],
   "source": [
    "i = 1  # Assign the value 1 to variable i\n",
    "j = 2  # Assign the value 2 to variable j\n",
    "\n",
    "# We add i and j below this line\n",
    "i + j"
   ]
  },
  {
   "cell_type": "markdown",
   "metadata": {},
   "source": [
    "## Functions\n",
    "\n",
    "Functions are something that take an input (or inputs) and produce an output\n",
    "\n",
    "If we had a function called `f` that took two arguments `x` and\n",
    "`y` then in order to use the function, we would write `f(x, y)`\n",
    "\n",
    "For example, the function `print` simply prints whatever it is given.\n",
    "Recall the variable we created called `x`"
   ]
  },
  {
   "cell_type": "code",
   "execution_count": 6,
   "metadata": {
    "hide-output": false
   },
   "outputs": [
    {
     "name": "stdout",
     "output_type": "stream",
     "text": [
      "something else\n"
     ]
    }
   ],
   "source": [
    "print(x)"
   ]
  },
  {
   "cell_type": "markdown",
   "metadata": {},
   "source": [
    "### Getting help\n",
    "\n",
    "We can figure out what a function does by asking for help\n",
    "\n",
    "In Jupyter notebooks, this is done by placing a `?` after the function\n",
    "name (without using parenthesis) and evaluating the cell\n",
    "\n",
    "For example, we can ask for help on the print function by writing\n",
    "`print?`\n",
    "\n",
    "Depending on how you launched jupyter, this will\n",
    "\n",
    "- JupyterLab: display the help in text below the cell  \n",
    "- Classic Jupyter Notebooks: display a new panel at the bottom of your\n",
    "  screen.  You can exit this panel by hitting the escape key or clicking the x at\n",
    "  the top right of the panel  "
   ]
  },
  {
   "cell_type": "code",
   "execution_count": 7,
   "metadata": {
    "hide-output": false
   },
   "outputs": [],
   "source": [
    "# print? # remove the comment and <Shift-Enter>"
   ]
  },
  {
   "cell_type": "markdown",
   "metadata": {},
   "source": [
    "\n",
    "<a id='exercise-1'></a>\n",
    "> See exercise 2 in the [*exercise list*](#exerciselist-0)\n",
    "\n",
    "\n",
    "JupyterLab also has an Inspector window.  To use,\n",
    "\n",
    "- Go to the Commands and choose Inspector, or select `<Ctrl-I>` (or `<Cmd-I>` for OSX users)  \n",
    "- Drag the new inspector pain to dock in the screen next to your code  \n",
    "- Then, type `print` or any other function\n",
    "into a cell and see the help  "
   ]
  },
  {
   "cell_type": "code",
   "execution_count": 18,
   "metadata": {
    "hide-output": false
   },
   "outputs": [
    {
     "data": {
      "text/plain": [
       "14"
      ]
     },
     "execution_count": 18,
     "metadata": {},
     "output_type": "execute_result"
    }
   ],
   "source": [
    "len(x)"
   ]
  },
  {
   "cell_type": "markdown",
   "metadata": {},
   "source": [
    "\n",
    "\n",
    "\n",
    "We will learn much more about functions, including how to write our own, in a\n",
    "future lecture"
   ]
  },
  {
   "cell_type": "markdown",
   "metadata": {},
   "source": [
    "## Objects and types\n",
    "\n",
    "Everything in Python is an *object*\n",
    "\n",
    "Objects are “things” that contain data as well as functions that operate on\n",
    "that data\n",
    "\n",
    "Sometimes we will refer to the functions inside of an object as *methods*\n",
    "\n",
    "We can investigate what data is inside of an object, and which methods\n",
    "it supports by typing `.` after the particular variable, and then\n",
    "hitting `TAB`\n",
    "\n",
    "It should bring up a list of data and method names to the right of the\n",
    "variable name like this:\n",
    "\n",
    "<img src=\"https://storage.googleapis.com/qeds/_static/python_fundamentals/introspection.png\" alt=\"introspection.png\" style=\"\">\n",
    "\n",
    "  \n",
    "You can scroll through this list by using the up and down arrows\n",
    "\n",
    "We will often refer to this as “tab completion” or “introspection”\n",
    "\n",
    "Let’s do this together below. Keep going down until you find the method\n",
    "`split`"
   ]
  },
  {
   "cell_type": "code",
   "execution_count": 19,
   "metadata": {
    "hide-output": false
   },
   "outputs": [
    {
     "data": {
      "text/plain": [
       "'something else'"
      ]
     },
     "execution_count": 19,
     "metadata": {},
     "output_type": "execute_result"
    }
   ],
   "source": [
    "# Type a period after `x` and then press TAB\n",
    "x"
   ]
  },
  {
   "cell_type": "markdown",
   "metadata": {},
   "source": [
    "Once you have found the method split, you can use the method by adding\n",
    "parenthesis after it\n",
    "\n",
    "Let’s call the `split` method, which doesn’t have any other required\n",
    "parameters (Quiz: how would we check that?)"
   ]
  },
  {
   "cell_type": "code",
   "execution_count": 20,
   "metadata": {
    "hide-output": false
   },
   "outputs": [
    {
     "data": {
      "text/plain": [
       "['something', 'else']"
      ]
     },
     "execution_count": 20,
     "metadata": {},
     "output_type": "execute_result"
    }
   ],
   "source": [
    "x.split()"
   ]
  },
  {
   "cell_type": "markdown",
   "metadata": {},
   "source": [
    "We will often want to know what kind of object something is, which is\n",
    "called its “type”\n",
    "\n",
    "A “type” is an abstraction which defines a set of behavior for any\n",
    "“instance” of that type i.e. `2.0` and `3.0` are instances\n",
    "of `float`, where `float` has a set of common behaviors\n",
    "\n",
    "In particular, the type determines\n",
    "\n",
    "- What data is available for any “instance” of the type (where each\n",
    "  instance may have different values of the data  \n",
    "- What methods are available to operate on the object and its data  \n",
    "\n",
    "\n",
    "We can figure this out by using the `type` function\n",
    "\n",
    "The `type` function takes a single argument and outputs the type of\n",
    "that argument"
   ]
  },
  {
   "cell_type": "code",
   "execution_count": 21,
   "metadata": {
    "hide-output": false
   },
   "outputs": [
    {
     "data": {
      "text/plain": [
       "int"
      ]
     },
     "execution_count": 21,
     "metadata": {},
     "output_type": "execute_result"
    }
   ],
   "source": [
    "type(3)"
   ]
  },
  {
   "cell_type": "code",
   "execution_count": 22,
   "metadata": {
    "hide-output": false
   },
   "outputs": [
    {
     "data": {
      "text/plain": [
       "str"
      ]
     },
     "execution_count": 22,
     "metadata": {},
     "output_type": "execute_result"
    }
   ],
   "source": [
    "type(\"Hello World\")"
   ]
  },
  {
   "cell_type": "code",
   "execution_count": 23,
   "metadata": {
    "hide-output": false
   },
   "outputs": [
    {
     "data": {
      "text/plain": [
       "list"
      ]
     },
     "execution_count": 23,
     "metadata": {},
     "output_type": "execute_result"
    }
   ],
   "source": [
    "type([1, 2, 3])"
   ]
  },
  {
   "cell_type": "markdown",
   "metadata": {},
   "source": [
    "We will learn more about each of these types (and others!) and how to use them\n",
    "soon, so stay tuned!\n",
    "\n",
    "\n",
    "<a id='modules'></a>"
   ]
  },
  {
   "cell_type": "markdown",
   "metadata": {},
   "source": [
    "## Modules\n",
    "\n",
    "Python takes a modular approach to tools\n",
    "\n",
    "By this we mean that sets of related tools are bundled together into *packages*\n",
    "(you may also hear the term modules to describe the same thing)\n",
    "\n",
    "For example:\n",
    "\n",
    "- `pandas` is a package that implements the tools necessary to do\n",
    "  scalable data analysis  \n",
    "- `matplotlib` is a package that implements visualization tools  \n",
    "- `requests` and `urllib` are packages that allow Python to\n",
    "  interface with the internet  \n",
    "- etc…  \n",
    "\n",
    "\n",
    "As we move further into the class, it will be important to be able to\n",
    "access these packages\n",
    "\n",
    "We can bring a package’s functionality into our current Python session\n",
    "by writing"
   ]
  },
  {
   "cell_type": "markdown",
   "metadata": {
    "hide-output": false
   },
   "source": [
    "```python\n",
    "import package\n",
    "```\n"
   ]
  },
  {
   "cell_type": "markdown",
   "metadata": {},
   "source": [
    "Once we have done this then any function or object from that package can\n",
    "be accessed by using `package.name`\n",
    "\n",
    "Here’s an example"
   ]
  },
  {
   "cell_type": "code",
   "execution_count": 24,
   "metadata": {
    "hide-output": false
   },
   "outputs": [
    {
     "data": {
      "text/plain": [
       "'3.7.4 (default, Aug  9 2019, 18:34:13) [MSC v.1915 64 bit (AMD64)]'"
      ]
     },
     "execution_count": 24,
     "metadata": {},
     "output_type": "execute_result"
    }
   ],
   "source": [
    "import sys   # for dealing with your computer's system\n",
    "sys.version  # information about the Python version in use"
   ]
  },
  {
   "cell_type": "markdown",
   "metadata": {},
   "source": [
    "\n",
    "<a id='exercise-2'></a>\n",
    "> See exercise 3 in the [*exercise list*](#exerciselist-0)"
   ]
  },
  {
   "cell_type": "markdown",
   "metadata": {},
   "source": [
    "### Module aliases\n",
    "\n",
    "Some packages have long names (see `matplotlib` for example) which\n",
    "makes accessing the functionality of that package inconvenient\n",
    "\n",
    "To ease this burden, Python allows us to give packages aliases or “nicknames.”\n",
    "For example we can write:"
   ]
  },
  {
   "cell_type": "markdown",
   "metadata": {
    "hide-output": false
   },
   "source": [
    "```python\n",
    "import package as p\n",
    "```\n"
   ]
  },
  {
   "cell_type": "markdown",
   "metadata": {},
   "source": [
    "This statement allows us to access the packages functionality as\n",
    "`p.function_name` rather than `package.function_name`\n",
    "\n",
    "Some common aliases for packages are\n",
    "\n",
    "- `import pandas as pd`  \n",
    "- `import numpy as np`  \n",
    "- `import matplotlib as mpl`  \n",
    "- `import datetime as dt`  \n",
    "\n",
    "\n",
    "While you *can* choose any name for an alias, we suggest that you stick\n",
    "to the common ones\n",
    "\n",
    "You will learn what these common ones are over time\n",
    "\n",
    "\n",
    "<a id='exercise-3'></a>\n",
    "> See exercise 4 in the [*exercise list*](#exerciselist-0)"
   ]
  },
  {
   "cell_type": "markdown",
   "metadata": {},
   "source": [
    "## Good code habits\n",
    "\n",
    "A saying that frequently makes its way around the software engineering world is\n",
    "\n",
    "> Always code as if the guy who ends up maintaining your code will be\n",
    "a violent psychopath who knows where you live. Code for readability.\n",
    "\n",
    "\n",
    "This might seem to be a dramatic take, but the most important feature of your code\n",
    "after correctness is readability\n",
    "\n",
    "We encourage you to do **everything** in your power to make your code as readable as possible\n",
    "\n",
    "Here are some suggestions for how to do so\n",
    "\n",
    "- Comment frequently. Leaving short notes not only will help others who\n",
    "  use your code, but it will help you interpret the code you wrote\n",
    "  after some time has passed  \n",
    "- **Anytime** you use a comma, place a space immediately afterwards  \n",
    "- Whitespace is your friend. Don’t write line after line of code – Use\n",
    "  blank lines to break it up  \n",
    "- Don’t let your lines run too long. Some of the people reading your code will\n",
    "  be on a laptop and you want to make sure that they don’t need to scroll left\n",
    "  and right to read your code. We recommend no more than 80 characters per line  "
   ]
  },
  {
   "cell_type": "markdown",
   "metadata": {},
   "source": [
    "## Numbers\n",
    "\n",
    "In Python there are two types of numbers:\n",
    "\n",
    "1. Integer (`int`): These can only take the values of the integers\n",
    "  i.e. $ \\{\\dots, -2, -1, 0, 1, 2, \\dots\\} $  \n",
    "1. Floating Point Number (`float`): Think of these as any real number\n",
    "  such as $ 1.0 $, $ 3.1415 $, or $ -100.022358923223 $…  \n",
    "\n",
    "\n",
    "The easiest way to tell these types of numbers apart is to look at\n",
    "whether there is a decimal place after the number\n",
    "\n",
    "An integer will not have a decimal place, but a float will\n",
    "\n",
    "Below we assign integers to the variables `xi` and `zi` and assign\n",
    "floating point numbers to the variables `xf` and `zf`:"
   ]
  },
  {
   "cell_type": "code",
   "execution_count": 26,
   "metadata": {
    "hide-output": false
   },
   "outputs": [
    {
     "data": {
      "text/plain": [
       "10000.0"
      ]
     },
     "execution_count": 26,
     "metadata": {},
     "output_type": "execute_result"
    }
   ],
   "source": [
    "xi = 1\n",
    "xf = 1.0\n",
    "zi = 123\n",
    "zf = 1230.5  # Notice -- There are no commas!\n",
    "zf2 = 1_230.5  # If needed, we use `_` to separate numbers for readability\n",
    "\n",
    "int(5)\n",
    "float(10000)"
   ]
  },
  {
   "cell_type": "markdown",
   "metadata": {},
   "source": [
    "\n",
    "<a id='exercise-4'></a>\n",
    "> See exercise 5 in the [*exercise list*](#exerciselist-0)"
   ]
  },
  {
   "cell_type": "markdown",
   "metadata": {},
   "source": [
    "### Python as a calculator\n",
    "\n",
    "You can use Python to perform mathematical calculations\n",
    "\n",
    "Below we let Python do some basic arithmetic for us"
   ]
  },
  {
   "cell_type": "code",
   "execution_count": 27,
   "metadata": {
    "hide-output": false
   },
   "outputs": [
    {
     "name": "stdout",
     "output_type": "stream",
     "text": [
      "a + b is 6\n",
      "a - b is 2\n",
      "a * b is 8\n",
      "a / b is 2.0\n",
      "a ** b is 16\n",
      "a ^ b is 6\n"
     ]
    }
   ],
   "source": [
    "a = 4\n",
    "b = 2\n",
    "\n",
    "print(\"a + b is\", a + b)\n",
    "print(\"a - b is\", a - b)\n",
    "print(\"a * b is\", a * b)\n",
    "print(\"a / b is\", a / b)\n",
    "print(\"a ** b is\", a**b)\n",
    "print(\"a ^ b is\", a^b)"
   ]
  },
  {
   "cell_type": "markdown",
   "metadata": {},
   "source": [
    "You likely could have guessed all of these except the last two\n",
    "\n",
    "**Warning**: Python uses `**`, not `^`, for exponentiation (raising a number\n",
    "to a power)!\n",
    "\n",
    "Notice also that above `+`, `-` and `**` all returned an integer\n",
    "type, but `/` converted the result to a float\n",
    "\n",
    "When possible, operations between integers return an integer type\n",
    "\n",
    "All operations involving a float will result in a float"
   ]
  },
  {
   "cell_type": "code",
   "execution_count": 28,
   "metadata": {
    "hide-output": false
   },
   "outputs": [
    {
     "name": "stdout",
     "output_type": "stream",
     "text": [
      "a + b is 6.0\n",
      "a - b is 2.0\n",
      "a * b is 8.0\n",
      "a / b is 2.0\n",
      "a ** b is 16.0\n"
     ]
    }
   ],
   "source": [
    "a = 4\n",
    "b = 2.0\n",
    "\n",
    "print(\"a + b is\", a + b)\n",
    "print(\"a - b is\", a - b)\n",
    "print(\"a * b is\", a * b)\n",
    "print(\"a / b is\", a / b)\n",
    "print(\"a ** b is\", a**b)"
   ]
  },
  {
   "cell_type": "markdown",
   "metadata": {},
   "source": [
    "We can also chain together operations\n",
    "\n",
    "When doing this, Python follows the standard [order of operations](https://en.wikipedia.org/wiki/Order_of_operations) — parenthesis, exponents,\n",
    "multiplication and division, followed by addition and subtraction\n",
    "\n",
    "For example,"
   ]
  },
  {
   "cell_type": "code",
   "execution_count": 29,
   "metadata": {
    "hide-output": false
   },
   "outputs": [],
   "source": [
    "x = 2.0\n",
    "y = 3.0\n",
    "z1 = x + y * x\n",
    "z2 = (x + y) * x"
   ]
  },
  {
   "cell_type": "markdown",
   "metadata": {},
   "source": [
    "What do you think `z1` is?\n",
    "\n",
    "How about `z2`?\n",
    "\n",
    "\n",
    "<a id='exercise-5'></a>\n",
    "> See exercise 6 in the [*exercise list*](#exerciselist-0)"
   ]
  },
  {
   "cell_type": "markdown",
   "metadata": {},
   "source": [
    "### Other math functions\n",
    "\n",
    "We often want to use other math functions on our numbers. Let’s try to\n",
    "calculate sin(2.5)."
   ]
  },
  {
   "cell_type": "code",
   "execution_count": 31,
   "metadata": {
    "hide-output": false
   },
   "outputs": [
    {
     "ename": "NameError",
     "evalue": "name 'sin' is not defined",
     "output_type": "error",
     "traceback": [
      "\u001b[1;31m---------------------------------------------------------------------------\u001b[0m",
      "\u001b[1;31mNameError\u001b[0m                                 Traceback (most recent call last)",
      "\u001b[1;32m<ipython-input-31-f2e7b04d50a4>\u001b[0m in \u001b[0;36m<module>\u001b[1;34m\u001b[0m\n\u001b[1;32m----> 1\u001b[1;33m \u001b[0msin\u001b[0m\u001b[1;33m(\u001b[0m\u001b[1;36m2.5\u001b[0m\u001b[1;33m)\u001b[0m\u001b[1;33m\u001b[0m\u001b[1;33m\u001b[0m\u001b[0m\n\u001b[0m",
      "\u001b[1;31mNameError\u001b[0m: name 'sin' is not defined"
     ]
    }
   ],
   "source": [
    "sin(2.5)"
   ]
  },
  {
   "cell_type": "markdown",
   "metadata": {},
   "source": [
    "As seen above, Python complains to us saying that `sin` isn’t defined\n",
    "\n",
    "The problem here is that the `sin` function – as well as many other\n",
    "standard math functions – are contained in the `math` package\n",
    "\n",
    "We begin by importing the math package"
   ]
  },
  {
   "cell_type": "code",
   "execution_count": 32,
   "metadata": {
    "hide-output": false
   },
   "outputs": [],
   "source": [
    "import math"
   ]
  },
  {
   "cell_type": "markdown",
   "metadata": {},
   "source": [
    "Now we can use `math.[TAB]` to see what functions are available to us"
   ]
  },
  {
   "cell_type": "code",
   "execution_count": 33,
   "metadata": {
    "hide-output": false
   },
   "outputs": [],
   "source": [
    "# uncomment, add a period (`.`) and pres TAB\n",
    "# math"
   ]
  },
  {
   "cell_type": "code",
   "execution_count": 34,
   "metadata": {
    "hide-output": false
   },
   "outputs": [
    {
     "data": {
      "text/plain": [
       "0.5984721441039564"
      ]
     },
     "execution_count": 34,
     "metadata": {},
     "output_type": "execute_result"
    }
   ],
   "source": [
    "# found math.sin!\n",
    "math.sin(2.5)"
   ]
  },
  {
   "cell_type": "markdown",
   "metadata": {},
   "source": [
    "\n",
    "<a id='exercise-6'></a>\n",
    "> See exercise 7 in the [*exercise list*](#exerciselist-0)"
   ]
  },
  {
   "cell_type": "markdown",
   "metadata": {},
   "source": [
    "#### Floor/Modulus Division Operators\n",
    "\n",
    "You are less likely to run into the following operators, but it is\n",
    "useful to understand that they exist\n",
    "\n",
    "For two numbers assigned to the variables `x` and `y`,\n",
    "\n",
    "- Floor division: `x // y`  \n",
    "- Modulus division: `x % y`  \n",
    "\n",
    "\n",
    "Remember when you first learned how to do division and you were asked to talk about the quotient\n",
    "and the remainder?\n",
    "\n",
    "That’s what these operators correspond to…\n",
    "\n",
    "Floor division returns the number of times the divisor goes into the dividend (the quotient)\n",
    "and modulus division returns the remainder\n",
    "\n",
    "An example would be 37 divided by 7\n",
    "\n",
    "- Floor division would return 5 (7 * 5 = 35)  \n",
    "- Modulus division would return 2 (2 + 35 = 37)  \n",
    "\n",
    "\n",
    "Try it!"
   ]
  },
  {
   "cell_type": "code",
   "execution_count": 35,
   "metadata": {
    "hide-output": false
   },
   "outputs": [
    {
     "data": {
      "text/plain": [
       "5"
      ]
     },
     "execution_count": 35,
     "metadata": {},
     "output_type": "execute_result"
    }
   ],
   "source": [
    "37 // 7"
   ]
  },
  {
   "cell_type": "code",
   "execution_count": 36,
   "metadata": {
    "hide-output": false
   },
   "outputs": [
    {
     "data": {
      "text/plain": [
       "2"
      ]
     },
     "execution_count": 36,
     "metadata": {},
     "output_type": "execute_result"
    }
   ],
   "source": [
    "37 % 7"
   ]
  },
  {
   "cell_type": "markdown",
   "metadata": {},
   "source": [
    "## Strings\n",
    "\n",
    "Textual information is stored in a computer in a data type called a string\n",
    "\n",
    "To denote that you would like something to be stored as a string, you place it\n",
    "inside of quotation marks\n",
    "\n",
    "For example,"
   ]
  },
  {
   "cell_type": "markdown",
   "metadata": {
    "hide-output": false
   },
   "source": [
    "```python\n",
    "\"this is a string\"  # Notice the quotation marks\n",
    "'this is a string'  # Notice the quotation marks\n",
    "this is not a string  # No quotation marks\n",
    "```\n"
   ]
  },
  {
   "cell_type": "markdown",
   "metadata": {},
   "source": [
    "Note that you can use either `\"` or `'` for making a string, just make sure\n",
    "that you start and end the string with the same one!\n",
    "\n",
    "Notice that if we ask Python to tell us the type of a string that it abbreviates\n",
    "it to `str`."
   ]
  },
  {
   "cell_type": "code",
   "execution_count": 37,
   "metadata": {
    "hide-output": false
   },
   "outputs": [
    {
     "data": {
      "text/plain": [
       "str"
      ]
     },
     "execution_count": 37,
     "metadata": {},
     "output_type": "execute_result"
    }
   ],
   "source": [
    "type(\"this is a string\")"
   ]
  },
  {
   "cell_type": "code",
   "execution_count": 43,
   "metadata": {},
   "outputs": [],
   "source": [
    "x = 'What's wrong with this string'"
   ]
  },
  {
   "cell_type": "code",
   "execution_count": 44,
   "metadata": {},
   "outputs": [
    {
     "name": "stdout",
     "output_type": "stream",
     "text": [
      "What's wrong with this string\n"
     ]
    }
   ],
   "source": [
    "x = \"What's wrong with this string\"\n",
    "print(x)"
   ]
  },
  {
   "cell_type": "markdown",
   "metadata": {},
   "source": [
    "\n",
    "<a id='exercise-7'></a>\n",
    "> See exercise 8 in the [*exercise list*](#exerciselist-0)"
   ]
  },
  {
   "cell_type": "markdown",
   "metadata": {},
   "source": [
    "### String operations\n",
    "\n",
    "Some of the arithmetic operators we saw in the numbers lecture also work\n",
    "on strings:\n",
    "\n",
    "- Put two strings together: `x + y`  \n",
    "- Repeat the string `x` a total of `n` times: `n * x` (or `x * n`)  "
   ]
  },
  {
   "cell_type": "code",
   "execution_count": 45,
   "metadata": {
    "hide-output": false
   },
   "outputs": [],
   "source": [
    "x = \"Hello\"\n",
    "y = \"World\""
   ]
  },
  {
   "cell_type": "code",
   "execution_count": 46,
   "metadata": {
    "hide-output": false
   },
   "outputs": [
    {
     "data": {
      "text/plain": [
       "'HelloWorld'"
      ]
     },
     "execution_count": 46,
     "metadata": {},
     "output_type": "execute_result"
    }
   ],
   "source": [
    "x + y"
   ]
  },
  {
   "cell_type": "code",
   "execution_count": 47,
   "metadata": {
    "hide-output": false
   },
   "outputs": [
    {
     "data": {
      "text/plain": [
       "'HelloHelloHello'"
      ]
     },
     "execution_count": 47,
     "metadata": {},
     "output_type": "execute_result"
    }
   ],
   "source": [
    "3 * x"
   ]
  },
  {
   "cell_type": "markdown",
   "metadata": {},
   "source": [
    "What happens if we try `*` with two strings, or `-` or `/`?\n",
    "\n",
    "The best way to find out is to try it!"
   ]
  },
  {
   "cell_type": "code",
   "execution_count": 48,
   "metadata": {
    "hide-output": false
   },
   "outputs": [
    {
     "ename": "TypeError",
     "evalue": "can't multiply sequence by non-int of type 'str'",
     "output_type": "error",
     "traceback": [
      "\u001b[1;31m---------------------------------------------------------------------------\u001b[0m",
      "\u001b[1;31mTypeError\u001b[0m                                 Traceback (most recent call last)",
      "\u001b[1;32m<ipython-input-48-81e08f80d3d1>\u001b[0m in \u001b[0;36m<module>\u001b[1;34m\u001b[0m\n\u001b[0;32m      1\u001b[0m \u001b[0ma\u001b[0m \u001b[1;33m=\u001b[0m \u001b[1;34m\"1\"\u001b[0m\u001b[1;33m\u001b[0m\u001b[1;33m\u001b[0m\u001b[0m\n\u001b[0;32m      2\u001b[0m \u001b[0mb\u001b[0m \u001b[1;33m=\u001b[0m \u001b[1;34m\"2\"\u001b[0m\u001b[1;33m\u001b[0m\u001b[1;33m\u001b[0m\u001b[0m\n\u001b[1;32m----> 3\u001b[1;33m \u001b[0ma\u001b[0m \u001b[1;33m*\u001b[0m \u001b[0mb\u001b[0m\u001b[1;33m\u001b[0m\u001b[1;33m\u001b[0m\u001b[0m\n\u001b[0m",
      "\u001b[1;31mTypeError\u001b[0m: can't multiply sequence by non-int of type 'str'"
     ]
    }
   ],
   "source": [
    "a = \"1\"\n",
    "b = \"2\"\n",
    "a * b"
   ]
  },
  {
   "cell_type": "code",
   "execution_count": 49,
   "metadata": {
    "hide-output": false
   },
   "outputs": [
    {
     "ename": "TypeError",
     "evalue": "unsupported operand type(s) for -: 'str' and 'str'",
     "output_type": "error",
     "traceback": [
      "\u001b[1;31m---------------------------------------------------------------------------\u001b[0m",
      "\u001b[1;31mTypeError\u001b[0m                                 Traceback (most recent call last)",
      "\u001b[1;32m<ipython-input-49-09bd029d0285>\u001b[0m in \u001b[0;36m<module>\u001b[1;34m\u001b[0m\n\u001b[1;32m----> 1\u001b[1;33m \u001b[0ma\u001b[0m \u001b[1;33m-\u001b[0m \u001b[0mb\u001b[0m\u001b[1;33m\u001b[0m\u001b[1;33m\u001b[0m\u001b[0m\n\u001b[0m",
      "\u001b[1;31mTypeError\u001b[0m: unsupported operand type(s) for -: 'str' and 'str'"
     ]
    }
   ],
   "source": [
    "a - b"
   ]
  },
  {
   "cell_type": "code",
   "execution_count": 53,
   "metadata": {},
   "outputs": [
    {
     "data": {
      "text/plain": [
       "'Hello World'"
      ]
     },
     "execution_count": 53,
     "metadata": {},
     "output_type": "execute_result"
    }
   ],
   "source": [
    "# There are 2 ways to do it. The first one is quite straightforward by including \" \" in the addition\n",
    "# the second one is to use .join() method, which is a better way for string concatenation if there are multiple strings\n",
    "\n",
    "x + \" \" + y"
   ]
  },
  {
   "cell_type": "code",
   "execution_count": 58,
   "metadata": {},
   "outputs": [
    {
     "data": {
      "text/plain": [
       "'Hello World'"
      ]
     },
     "execution_count": 58,
     "metadata": {},
     "output_type": "execute_result"
    }
   ],
   "source": [
    "z = [x, y]\n",
    "' '.join(z)"
   ]
  },
  {
   "cell_type": "markdown",
   "metadata": {},
   "source": [
    "\n",
    "<a id='exercise-8'></a>\n",
    "> See exercise 9 in the [*exercise list*](#exerciselist-0)"
   ]
  },
  {
   "cell_type": "markdown",
   "metadata": {},
   "source": [
    "### String methods\n",
    "\n",
    "There are many *methods* that we can use to manipulate strings\n",
    "\n",
    "We will not be able to cover all of them here, but let’s take a look at\n",
    "some of the most useful ones"
   ]
  },
  {
   "cell_type": "code",
   "execution_count": null,
   "metadata": {
    "hide-output": false
   },
   "outputs": [],
   "source": [
    "x"
   ]
  },
  {
   "cell_type": "code",
   "execution_count": null,
   "metadata": {
    "hide-output": false
   },
   "outputs": [],
   "source": [
    "x.lower()  # Makes all letters lower case"
   ]
  },
  {
   "cell_type": "code",
   "execution_count": null,
   "metadata": {
    "hide-output": false
   },
   "outputs": [],
   "source": [
    "x.upper()  # Makes all letters upper case"
   ]
  },
  {
   "cell_type": "code",
   "execution_count": null,
   "metadata": {
    "hide-output": false
   },
   "outputs": [],
   "source": [
    "x.count(\"l\")  # Counts number of a particular string"
   ]
  },
  {
   "cell_type": "code",
   "execution_count": null,
   "metadata": {
    "hide-output": false
   },
   "outputs": [],
   "source": [
    "x.count(\"ll\")"
   ]
  },
  {
   "cell_type": "markdown",
   "metadata": {},
   "source": [
    "\n",
    "<a id='exercise-9'></a>\n",
    "> See exercise 10 in the [*exercise list*](#exerciselist-0)\n",
    "\n",
    "\n",
    "\n",
    "<a id='exercise-10'></a>\n",
    "> See exercise 11 in the [*exercise list*](#exerciselist-0)"
   ]
  },
  {
   "cell_type": "markdown",
   "metadata": {},
   "source": [
    "### String formatting\n",
    "\n",
    "Sometimes we’d like to reuse some portion of a string repeatedly, but\n",
    "make some relatively small changes each time it is used\n",
    "\n",
    "We can do this with *string formatting*, which done by using `{}` as a\n",
    "*placeholder* where we’d like to change the string, with a variable name\n",
    "or expression\n",
    "\n",
    "Let’s look at an example:"
   ]
  },
  {
   "cell_type": "code",
   "execution_count": null,
   "metadata": {
    "hide-output": false
   },
   "outputs": [],
   "source": [
    "country = \"Vietnam\"\n",
    "GDP = 223.9\n",
    "year = 2017\n",
    "my_string = f\"{country} had ${GDP} billion GDP in {year}\"\n",
    "print(my_string)"
   ]
  },
  {
   "cell_type": "markdown",
   "metadata": {},
   "source": [
    "Rather than just substituting a variable name, you can use a calculation\n",
    "or expression"
   ]
  },
  {
   "cell_type": "code",
   "execution_count": null,
   "metadata": {
    "hide-output": false
   },
   "outputs": [],
   "source": [
    "print(f\"{5}**2 = {5**2}\")"
   ]
  },
  {
   "cell_type": "markdown",
   "metadata": {},
   "source": [
    "Or, using our previous example"
   ]
  },
  {
   "cell_type": "code",
   "execution_count": null,
   "metadata": {
    "hide-output": false
   },
   "outputs": [],
   "source": [
    "my_string = f\"{country} had ${GDP * 1_000_000} GDP in {year}\"\n",
    "print(my_string)"
   ]
  },
  {
   "cell_type": "markdown",
   "metadata": {},
   "source": [
    "Note in these cases the `f` in front of the string, which ensures Python interpolates\n",
    "any valid expressions within the `{}` braces\n",
    "\n",
    "\n",
    "<a id='exercise-11'></a>\n",
    "> See exercise 12 in the [*exercise list*](#exerciselist-0)\n",
    "\n",
    "\n",
    "Alternatively, to reuse a formatted string you can call the `format` method (noting that you do **not** put `f` in front)"
   ]
  },
  {
   "cell_type": "code",
   "execution_count": null,
   "metadata": {
    "hide-output": false
   },
   "outputs": [],
   "source": [
    "gdp_string = \"{country} had ${GDP} billion in {year}\"\n",
    "\n",
    "gdp_string.format(country = \"Vietnam\", GDP = 223.9, year = 2017)"
   ]
  },
  {
   "cell_type": "markdown",
   "metadata": {},
   "source": [
    "\n",
    "<a id='exercise-12'></a>\n",
    "> See exercise 13 in the [*exercise list*](#exerciselist-0)\n",
    "\n",
    "\n",
    "\n",
    "<a id='exercise-13'></a>\n",
    "> See exercise 14 in the [*exercise list*](#exerciselist-0)\n",
    "\n",
    "\n",
    "For more information on what you can do with string formatting (there is *a lot*\n",
    "that can be done…), see the [official Python documentation](https://docs.python.org/3.6/library/string.html) on the subject."
   ]
  },
  {
   "cell_type": "markdown",
   "metadata": {},
   "source": [
    "## Booleans\n",
    "\n",
    "A boolean is a type that denotes true or false\n",
    "\n",
    "As you will soon see in the [control flow chapter](control_flow.ipynb), using\n",
    "boolean values allows you to perform or skip operations depending on whether or\n",
    "not a condition is met\n",
    "\n",
    "Let’s start by creating some booleans and having a look at them"
   ]
  },
  {
   "cell_type": "code",
   "execution_count": null,
   "metadata": {
    "hide-output": false
   },
   "outputs": [],
   "source": [
    "x = True\n",
    "y = False\n",
    "\n",
    "type(x)"
   ]
  },
  {
   "cell_type": "code",
   "execution_count": null,
   "metadata": {
    "hide-output": false
   },
   "outputs": [],
   "source": [
    "x"
   ]
  },
  {
   "cell_type": "code",
   "execution_count": null,
   "metadata": {
    "hide-output": false
   },
   "outputs": [],
   "source": [
    "y"
   ]
  },
  {
   "cell_type": "markdown",
   "metadata": {},
   "source": [
    "### Comparison Operators\n",
    "\n",
    "Rather than directly write `True` or `False`, you will usually\n",
    "create booleans by making some sort of comparison\n",
    "\n",
    "For example, you might want to evaluate whether the price of a particular asset\n",
    "is greater than or less than some price\n",
    "\n",
    "For two variables `x` and `y` we can do the following comparisons:\n",
    "\n",
    "- Greater than: `x > y`  \n",
    "- Less than: `x < y`  \n",
    "- Equal to: `==`  \n",
    "- Greater than or equal to: `x >= y`  \n",
    "- Less than or equal to: `x <= y`  \n",
    "\n",
    "\n",
    "We demonstrate these below"
   ]
  },
  {
   "cell_type": "code",
   "execution_count": null,
   "metadata": {
    "hide-output": false
   },
   "outputs": [],
   "source": [
    "a = 4\n",
    "b = 2\n",
    "\n",
    "print(\"a > b\", \"is\", a > b)\n",
    "print(\"a < b\", \"is\", a < b)\n",
    "print(\"a == b\", \"is\", a == b)\n",
    "print(\"a >= b\", \"is\", a >= b)\n",
    "print(\"a <= b\", \"is\", a <= b)"
   ]
  },
  {
   "cell_type": "markdown",
   "metadata": {},
   "source": [
    "### Negation\n",
    "\n",
    "Occasionally it is more convenient to think about whether a statement is\n",
    "“not true” or “not false”\n",
    "\n",
    "This is known as *negating* a statement\n",
    "\n",
    "In Python we can negate a boolean using the word `not`"
   ]
  },
  {
   "cell_type": "code",
   "execution_count": null,
   "metadata": {
    "hide-output": false
   },
   "outputs": [],
   "source": [
    "not False"
   ]
  },
  {
   "cell_type": "code",
   "execution_count": null,
   "metadata": {
    "hide-output": false
   },
   "outputs": [],
   "source": [
    "not True"
   ]
  },
  {
   "cell_type": "markdown",
   "metadata": {},
   "source": [
    "### Multiple Comparisons (and/or)\n",
    "\n",
    "Sometimes we need to evaluate multiple comparisons at once\n",
    "\n",
    "This is done by using the words `and` and `or`\n",
    "\n",
    "These don’t necessarily mean the same as how you might use them in every\n",
    "day language – they are the “mathematical” *and* and *or*\n",
    "\n",
    "- `a and b` is true only when **both** `a` and `b` are true  \n",
    "- `a or b` is true whenever at least one of `a` or `b` is true  \n",
    "\n",
    "\n",
    "For example\n",
    "\n",
    "- The statement “I will accept the new job if the salary is higher\n",
    "  *and* I receive more vacation days” means that you would only accept\n",
    "  the new job if you both receive a higher salary and are given more\n",
    "  vacation days.  \n",
    "- The statement “I will accept the new job if the salary is higher *or*\n",
    "  I receive more vacation days” means that you would accept the job if\n",
    "  (1) they raised your salary, (2) you are given more vacation days, or\n",
    "  (3) they raise your salary and give you more vacation days.  \n",
    "\n",
    "\n",
    "Let’s see some examples"
   ]
  },
  {
   "cell_type": "code",
   "execution_count": null,
   "metadata": {
    "hide-output": false
   },
   "outputs": [],
   "source": [
    "True and False"
   ]
  },
  {
   "cell_type": "code",
   "execution_count": null,
   "metadata": {
    "hide-output": false
   },
   "outputs": [],
   "source": [
    "True and True"
   ]
  },
  {
   "cell_type": "code",
   "execution_count": null,
   "metadata": {
    "hide-output": false
   },
   "outputs": [],
   "source": [
    "True or False"
   ]
  },
  {
   "cell_type": "code",
   "execution_count": null,
   "metadata": {
    "hide-output": false
   },
   "outputs": [],
   "source": [
    "False or False"
   ]
  },
  {
   "cell_type": "code",
   "execution_count": null,
   "metadata": {
    "hide-output": false
   },
   "outputs": [],
   "source": [
    "# Can chain multiple comparisons together.\n",
    "True and (False or True)"
   ]
  },
  {
   "cell_type": "markdown",
   "metadata": {},
   "source": [
    "\n",
    "<a id='exercise-14'></a>\n",
    "> See exercise 15 in the [*exercise list*](#exerciselist-0)"
   ]
  },
  {
   "cell_type": "markdown",
   "metadata": {},
   "source": [
    "### `all` and `any`\n",
    "\n",
    "We have seen how we can use the words `and` and `or` to process two booleans\n",
    "at a time\n",
    "\n",
    "The functions `all` and `any` allow us to process an unlimited number of\n",
    "Booleans at once.\n",
    "\n",
    "`all(bools)` will return `True` if and only if all the booleans in `bools`\n",
    "is `True` and returns `False` otherwise\n",
    "\n",
    "`any(bools)` returns `True` whenever one or more of `bools` is `True`\n",
    "\n",
    "The exercise below will give you a chance to practice\n",
    "\n",
    "\n",
    "<a id='exercise-15'></a>\n",
    "> See exercise 16 in the [*exercise list*](#exerciselist-0)"
   ]
  },
  {
   "cell_type": "markdown",
   "metadata": {},
   "source": [
    "## Exercises\n",
    "\n",
    "\n",
    "<a id='exerciselist-0'></a>\n",
    "**Exercise 1**\n",
    "\n",
    "What do you think the value of `z` is after running the code below?"
   ]
  },
  {
   "cell_type": "markdown",
   "metadata": {
    "hide-output": false
   },
   "source": [
    "```python\n",
    "z = 3\n",
    "z = z + 4\n",
    "print(\"z is\", z)\n",
    "```\n"
   ]
  },
  {
   "cell_type": "markdown",
   "metadata": {},
   "source": [
    "([*back to text*](#exercise-0))\n",
    "\n",
    "**Exercise 2**\n",
    "\n",
    "Read about out what the `len` function does (by doing len?). Take a\n",
    "guess at what it will produce if we give it the variable `x` then check\n",
    "to see whether you were right by running the code `len(x)`\n",
    "\n",
    "([*back to text*](#exercise-1))\n",
    "\n",
    "**Exercise 3**\n",
    "\n",
    "We can use our introspection skills to see what is in a package.\n",
    "\n",
    "In the cell below use tab completion to find a function from the `time`\n",
    "module that will display the **local** time.\n",
    "\n",
    "Use `time.FUNC_NAME?` (where `FUNC_NAME` is replaced with the name\n",
    "of the function you found) to see information about that function and\n",
    "then call the function. (Hint: look for something to do with the word\n",
    "`local`)."
   ]
  },
  {
   "cell_type": "code",
   "execution_count": null,
   "metadata": {
    "hide-output": false
   },
   "outputs": [],
   "source": [
    "import time\n",
    "# your code here -- notice the comment!"
   ]
  },
  {
   "cell_type": "markdown",
   "metadata": {},
   "source": [
    "([*back to text*](#exercise-2))\n",
    "\n",
    "**Exercise 4**\n",
    "\n",
    "Try running `import time as t` in the cell below, then see if you can\n",
    "call the function you identified above.\n",
    "\n",
    "Does it work?\n",
    "\n",
    "([*back to text*](#exercise-3))\n",
    "\n",
    "**Exercise 5**\n",
    "\n",
    "Create the following variables\n",
    "\n",
    "- `D`: A floating point number with the value 10,000  \n",
    "- `r`: A floating point number with value 0.025  \n",
    "- `T`: An integer with value 30  \n",
    "\n",
    "\n",
    "We will use them in a later exercise."
   ]
  },
  {
   "cell_type": "code",
   "execution_count": null,
   "metadata": {
    "hide-output": false
   },
   "outputs": [],
   "source": [
    "# your code here!"
   ]
  },
  {
   "cell_type": "markdown",
   "metadata": {},
   "source": [
    "([*back to text*](#exercise-4))\n",
    "\n",
    "**Exercise 6**\n",
    "\n",
    "Remember the variables we created earlier?\n",
    "\n",
    "Let's compute the present discounted value of a payment ($ D $) made\n",
    "in $ T $ years assuming an interest rate of 2.5%. Save this value to\n",
    "a new variable called `PDV` and print your output\n",
    "\n",
    "Hint: The formula is\n",
    "\n",
    "$$\n",
    "\\text{PDV} = \\frac{D}{(1 + r)^T}\n",
    "$$"
   ]
  },
  {
   "cell_type": "code",
   "execution_count": null,
   "metadata": {
    "hide-output": false
   },
   "outputs": [],
   "source": [
    "# your code here"
   ]
  },
  {
   "cell_type": "markdown",
   "metadata": {},
   "source": [
    "([*back to text*](#exercise-5))\n",
    "\n",
    "**Exercise 7**\n",
    "\n",
    "Verify the \"trick\" that for two numbers that are close to 1 that the\n",
    "percent difference between the numbers ($ \\frac{x - y}{x} $) is well\n",
    "approximated by (or close to) the difference between the log of the two\n",
    "numbers ($ \\log(x) - \\log(y) $).\n",
    "\n",
    "Use the numbers `x` and `y` below. (Hint: you will want to use the\n",
    "`math.log` function)"
   ]
  },
  {
   "cell_type": "code",
   "execution_count": null,
   "metadata": {
    "hide-output": false
   },
   "outputs": [],
   "source": [
    "x = 1.05\n",
    "y = 1.02"
   ]
  },
  {
   "cell_type": "markdown",
   "metadata": {},
   "source": [
    "([*back to text*](#exercise-6))\n",
    "\n",
    "**Exercise 8**\n",
    "\n",
    "The code below is invalid Python code"
   ]
  },
  {
   "cell_type": "markdown",
   "metadata": {
    "hide-output": false
   },
   "source": [
    "```markdown\n",
    "x = 'What's wrong with this string'\n",
    "```\n"
   ]
  },
  {
   "cell_type": "markdown",
   "metadata": {},
   "source": [
    "Can you fix it?\n",
    "\n",
    "*Hint*: Try creating a code cell below and testing things out until you\n",
    "find a solution\n",
    "\n",
    "([*back to text*](#exercise-7))\n",
    "\n",
    "**Exercise 9**\n",
    "\n",
    "Using the variables `x` and `y`, how could you create the sentence\n",
    "`Hello World`?\n",
    "\n",
    "Hint: Think about how to represent a space as a string.\n",
    "\n",
    "([*back to text*](#exercise-8))\n",
    "\n",
    "**Exercise 10**\n",
    "\n",
    "One of our favorite (and most frequently used) string methods is\n",
    "`replace`\n",
    "\n",
    "It substitutes all occurrences of a particular letter for something else\n",
    "\n",
    "For the variable `test` below, use the `replace` method to swap the\n",
    "`c` for a `d`\n",
    "\n",
    "Hint: Type `test.replace?` to get some help for how to use the method\n",
    "replace"
   ]
  },
  {
   "cell_type": "code",
   "execution_count": null,
   "metadata": {
    "hide-output": false
   },
   "outputs": [],
   "source": [
    "test = \"abc\""
   ]
  },
  {
   "cell_type": "markdown",
   "metadata": {},
   "source": [
    "([*back to text*](#exercise-9))\n",
    "\n",
    "**Exercise 11**\n",
    "\n",
    "Suppose you are working with price data and come across the value\n",
    "`\"\\$6.50\"`\n",
    "\n",
    "When Python tries to interpret this value, it ends up being the string\n",
    "`\"\\$6.50\"`, instead of the number `6.50` (Quiz: why is this a\n",
    "problem? Think about the examples above)\n",
    "\n",
    "In this exercise, your task is to convert the variable `price` below\n",
    "into a number\n",
    "\n",
    "*Hint*: Once the string is in a suitable format, you can call write\n",
    "`float(clean_price)` to make it a number"
   ]
  },
  {
   "cell_type": "markdown",
   "metadata": {
    "hide-output": false
   },
   "source": [
    "```python\n",
    "price = \"$6.50\"\n",
    "```\n"
   ]
  },
  {
   "cell_type": "markdown",
   "metadata": {},
   "source": [
    "([*back to text*](#exercise-10))\n",
    "\n",
    "**Exercise 12**\n",
    "\n",
    "Lookup a country in [World Bank database](https://data.worldbank.org), and\n",
    "format a string showing the growth rate of GDP over the last 2 years\n",
    "\n",
    "([*back to text*](#exercise-11))\n",
    "\n",
    "**Exercise 13**\n",
    "\n",
    "Instead of hard-coding the values above, try to use the `country`, `GDP` and\n",
    "`year` variables you previously defined\n",
    "\n",
    "([*back to text*](#exercise-12))\n",
    "\n",
    "**Exercise 14**\n",
    "\n",
    "Create a new string and use formatting to produce each of the following\n",
    "statements\n",
    "\n",
    "- \"The 1st quarter revenue was 110M\"  \n",
    "- \"The 2nd quarter revenue was 95M\"  \n",
    "- \"The 3rd quarter revenue was 100M\"  \n",
    "- \"The 4th quarter revenue was 130M\"  \n",
    "\n",
    "\n",
    "([*back to text*](#exercise-13))\n",
    "\n",
    "**Exercise 15**\n",
    "\n",
    "Without typing the commands, determine whether the following statements are\n",
    "true or false.\n",
    "\n",
    "Once you have evaluated whether the command is True or False, run the\n",
    "code in Python"
   ]
  },
  {
   "cell_type": "markdown",
   "metadata": {
    "hide-output": false
   },
   "source": [
    "```python\n",
    "x = 2\n",
    "y = 2\n",
    "z = 4\n",
    "\n",
    "# Statement 1\n",
    "x > z\n",
    "\n",
    "# Statement 1\n",
    "x == y\n",
    "\n",
    "# Statement 3\n",
    "(x < y) and (x > y)\n",
    "\n",
    "# Statement 4\n",
    "(x < y) or (x > y)\n",
    "\n",
    "# Statement 5\n",
    "(x <= y) and (x >= y)\n",
    "\n",
    "# Statement 6\n",
    "True and ((x < z) or (x < y))\n",
    "```\n"
   ]
  },
  {
   "cell_type": "code",
   "execution_count": null,
   "metadata": {
    "hide-output": false
   },
   "outputs": [],
   "source": [
    "# code here!"
   ]
  },
  {
   "cell_type": "markdown",
   "metadata": {},
   "source": [
    "([*back to text*](#exercise-14))\n",
    "\n",
    "**Exercise 16**\n",
    "\n",
    "For each of the code cells below, think carefully about what you expect to\n",
    "be returned *before* evaluating the cell\n",
    "\n",
    "Then evaluate the cell to check your intuitions\n",
    "\n",
    "NOTE: For now do not worry about what the `[` and `]` mean -- they\n",
    "allow us to create lists which we will learn about in an upcoming lecture"
   ]
  },
  {
   "cell_type": "code",
   "execution_count": null,
   "metadata": {
    "hide-output": false
   },
   "outputs": [],
   "source": [
    "all([True, True, True])"
   ]
  },
  {
   "cell_type": "code",
   "execution_count": null,
   "metadata": {
    "hide-output": false
   },
   "outputs": [],
   "source": [
    "all([False, True, False])"
   ]
  },
  {
   "cell_type": "code",
   "execution_count": null,
   "metadata": {
    "hide-output": false
   },
   "outputs": [],
   "source": [
    "all([False, False, False])"
   ]
  },
  {
   "cell_type": "code",
   "execution_count": null,
   "metadata": {
    "hide-output": false
   },
   "outputs": [],
   "source": [
    "any([True, True, True])"
   ]
  },
  {
   "cell_type": "code",
   "execution_count": null,
   "metadata": {
    "hide-output": false
   },
   "outputs": [],
   "source": [
    "any([False, True, False])"
   ]
  },
  {
   "cell_type": "code",
   "execution_count": null,
   "metadata": {
    "hide-output": false
   },
   "outputs": [],
   "source": [
    "any([False, False, False])"
   ]
  },
  {
   "cell_type": "markdown",
   "metadata": {},
   "source": [
    "([*back to text*](#exercise-15))"
   ]
  }
 ],
 "metadata": {
  "filename": "basics.rst",
  "kernelspec": {
   "display_name": "Python 3",
   "language": "python",
   "name": "python3"
  },
  "language_info": {
   "codemirror_mode": {
    "name": "ipython",
    "version": 3
   },
   "file_extension": ".py",
   "mimetype": "text/x-python",
   "name": "python",
   "nbconvert_exporter": "python",
   "pygments_lexer": "ipython3",
   "version": "3.7.4"
  },
  "title": "Basics"
 },
 "nbformat": 4,
 "nbformat_minor": 2
}
