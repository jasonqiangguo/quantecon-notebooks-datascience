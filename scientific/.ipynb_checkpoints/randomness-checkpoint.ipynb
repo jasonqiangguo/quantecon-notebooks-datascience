{
 "cells": [
  {
   "cell_type": "markdown",
   "metadata": {},
   "source": [
    "# Randomness\n",
    "\n",
    "**Prerequisites**\n",
    "\n",
    "- [Introduction to Numpy](numpy_arrays.ipynb)  \n",
    "- [Applied Linear Algebra](applied_linalg.ipynb)  \n",
    "\n",
    "\n",
    "**Outcomes**\n",
    "\n",
    "- Recall basic probability  \n",
    "- Able to draw random numbers from numpy  \n",
    "- Understand why simulation is useful  \n",
    "- Understand the basics of Markov chains and using the `quantecon` library to study them  \n",
    "- Simulate discrete and continuous random variables and processes  "
   ]
  },
  {
   "cell_type": "markdown",
   "metadata": {},
   "source": [
    "## Outline\n",
    "\n",
    "- [Randomness](#Randomness)  \n",
    "  - [Randomness](#Randomness)  \n",
    "  - [Exercises](#Exercises)  "
   ]
  },
  {
   "cell_type": "code",
   "execution_count": null,
   "metadata": {
    "hide-output": false
   },
   "outputs": [],
   "source": [
    "# Uncomment following line to install on colab\n",
    "#! pip install qeds"
   ]
  },
  {
   "cell_type": "markdown",
   "metadata": {},
   "source": [
    "## Randomness\n",
    "\n",
    "We will use the `numpy.random` package to simulate randomness in Python\n",
    "\n",
    "This lecture will present various probability distributions and then use\n",
    "numpy.random to numerically verify some of the facts associated with them\n",
    "\n",
    "We import `numpy` as usual"
   ]
  },
  {
   "cell_type": "code",
   "execution_count": 1,
   "metadata": {
    "hide-output": false
   },
   "outputs": [],
   "source": [
    "import numpy as np\n",
    "import matplotlib.pyplot as plt\n",
    "%matplotlib inline\n",
    "# activate plot theme\n",
    "#import qeds\n",
    "#qeds.themes.mpl_style();"
   ]
  },
  {
   "cell_type": "markdown",
   "metadata": {},
   "source": [
    "### Probability\n",
    "\n",
    "Before we move on to learning about how to use Python to generate randomness, we should make sure\n",
    "that we all agree on some basic concepts of probability\n",
    "\n",
    "In order to think about the probability of some event occurring, we must understand what possible\n",
    "events could occur – mathematicians refer to this as the *event space*\n",
    "\n",
    "Some examples are\n",
    "\n",
    "- For a coin flip, the coin could either come up heads, tails or land on its side  \n",
    "- The number of inches of rain falling in a certain location and on a given day could be any real\n",
    "  number between 0 and $ \\infty $  \n",
    "- The change in the price of a stock from the S&P500 could be any real number between\n",
    "  $ - $ opening price and $ \\infty $  \n",
    "- An individual’s employment status tomorrow could either be employed or unemployed  \n",
    "- And the list goes on…  \n",
    "\n",
    "\n",
    "Notice that in some of these cases the event space can be counted (coin flip and employment status)\n",
    "while in others the event space can not be counted (rain and stock prices)\n",
    "\n",
    "We refer to random variables that have a countable event space as *discrete random variables* and\n",
    "random variables that have an uncountable event space as *continuous random variables*\n",
    "\n",
    "We associate certain numbers that we’ll call probabilities with events from the event space\n",
    "\n",
    "We require various things to be true about probabilities\n",
    "\n",
    "1. The probability of any event must be greater than or equal to 0  \n",
    "1. The probability of all events from the event space must sum (or integrate) to 1  \n",
    "1. If two events cannot occur at same time then the probability that at least one of them occurs is\n",
    "  the sum of the probabilities that each one occurs (known as independence)  \n",
    "\n",
    "\n",
    "We won’t rely on these for much of what we learn in this class, but occasionally these facts will\n",
    "help us reason about what is happening"
   ]
  },
  {
   "cell_type": "markdown",
   "metadata": {},
   "source": [
    "### Simulating randomness in Python\n",
    "\n",
    "One of the most basic random numbers is a variable that has equal probability of taking any value\n",
    "between 0 and 1\n",
    "\n",
    "You may have previously learned about this probability distribution as the Uniform(0, 1)\n",
    "\n",
    "Let’s dive in to generating some random numbers\n",
    "\n",
    "Run the code below multiple times and see what numbers you get"
   ]
  },
  {
   "cell_type": "code",
   "execution_count": 2,
   "metadata": {
    "hide-output": false
   },
   "outputs": [
    {
     "data": {
      "text/plain": [
       "0.46025865736475235"
      ]
     },
     "execution_count": 2,
     "metadata": {},
     "output_type": "execute_result"
    }
   ],
   "source": [
    "np.random.rand()"
   ]
  },
  {
   "cell_type": "markdown",
   "metadata": {},
   "source": [
    "We can also generate arrays of random numbers"
   ]
  },
  {
   "cell_type": "code",
   "execution_count": 3,
   "metadata": {
    "hide-output": false
   },
   "outputs": [
    {
     "data": {
      "text/plain": [
       "array([0.34528747, 0.2703738 , 0.0475217 , 0.02024219, 0.59258341,\n",
       "       0.3621741 , 0.37315915, 0.73319495, 0.09158071, 0.34007314,\n",
       "       0.58645207, 0.3225481 , 0.22402118, 0.58200181, 0.81340985,\n",
       "       0.36862246, 0.35475532, 0.75547698, 0.593044  , 0.59969798,\n",
       "       0.18956977, 0.79467574, 0.59149995, 0.9496978 , 0.20788698])"
      ]
     },
     "execution_count": 3,
     "metadata": {},
     "output_type": "execute_result"
    }
   ],
   "source": [
    "np.random.rand(25)"
   ]
  },
  {
   "cell_type": "code",
   "execution_count": 4,
   "metadata": {
    "hide-output": false
   },
   "outputs": [
    {
     "data": {
      "text/plain": [
       "array([[0.34654148, 0.45693405, 0.93693738, 0.74058084, 0.61317106],\n",
       "       [0.41596822, 0.87921408, 0.02263215, 0.34441171, 0.90455251],\n",
       "       [0.77635811, 0.54959102, 0.52762843, 0.12266697, 0.08271467],\n",
       "       [0.48813509, 0.07123362, 0.48559794, 0.34340077, 0.70954064],\n",
       "       [0.9402872 , 0.2874763 , 0.22125448, 0.96745644, 0.74606908]])"
      ]
     },
     "execution_count": 4,
     "metadata": {},
     "output_type": "execute_result"
    }
   ],
   "source": [
    "np.random.rand(5, 5)"
   ]
  },
  {
   "cell_type": "code",
   "execution_count": 5,
   "metadata": {
    "hide-output": false
   },
   "outputs": [
    {
     "data": {
      "text/plain": [
       "array([[[0.31259554, 0.78845261, 0.82006757, 0.72185795],\n",
       "        [0.23806068, 0.61928449, 0.01700819, 0.17191471],\n",
       "        [0.94257802, 0.23100147, 0.95899015, 0.31045768]],\n",
       "\n",
       "       [[0.49228007, 0.92672108, 0.36995604, 0.51915452],\n",
       "        [0.7555191 , 0.48092301, 0.08031859, 0.91698449],\n",
       "        [0.72772996, 0.17056452, 0.03298524, 0.70008949]]])"
      ]
     },
     "execution_count": 5,
     "metadata": {},
     "output_type": "execute_result"
    }
   ],
   "source": [
    "np.random.rand(2, 3, 4)"
   ]
  },
  {
   "cell_type": "markdown",
   "metadata": {},
   "source": [
    "### Why do we need randomness?\n",
    "\n",
    "As economists and data scientists we study complex systems\n",
    "\n",
    "These systems have inherent randomness, but they do not readily reveal their underlying distribution\n",
    "to us\n",
    "\n",
    "In cases where we face this type of difficulty, we turn to a set of tools known as Monte Carlo\n",
    "methods\n",
    "\n",
    "These methods effectively boil down to repeatedly simulating some event (or events) and looking at\n",
    "the distribution of outcomes\n",
    "\n",
    "This tool is used to inform decisions in search and rescue missions, election predictions, sports,\n",
    "and even by the Federal Reserve\n",
    "\n",
    "The reasons that these types of methods work is a mathematical theorem known as the *Law of Large\n",
    "Numbers*\n",
    "\n",
    "The Law of Large Numbers basically says that, under relatively general conditions, as the number of\n",
    "times that we simulate some event goes to infinity that the distribution of outcomes will mimic the\n",
    "true distribution\n",
    "\n",
    "We already know how the uniform distribution looks, but let’s demonstrate how we might see the Law\n",
    "of Large Numbers at work in approximating the uniform distribution"
   ]
  },
  {
   "cell_type": "code",
   "execution_count": 7,
   "metadata": {
    "hide-output": false
   },
   "outputs": [
    {
     "data": {
      "image/png": "[encoded data removed]",
      "text/plain": [
       "<Figure size 432x288 with 3 Axes>"
      ]
     },
     "metadata": {
      "needs_background": "light"
     },
     "output_type": "display_data"
    }
   ],
   "source": [
    "# Draw various numbers of uniform[0, 1] random variables\n",
    "draws_10 = np.random.rand(10)\n",
    "draws_200 = np.random.rand(200)\n",
    "draws_10000 = np.random.rand(10_000)\n",
    "\n",
    "# Plot their histograms\n",
    "fig, ax = plt.subplots(3)\n",
    "\n",
    "ax[0].set_title(\"Histogram with 10 draws\")\n",
    "ax[0].hist(draws_10)\n",
    "\n",
    "ax[1].set_title(\"Histogram with 200 draws\")\n",
    "ax[1].hist(draws_200)\n",
    "\n",
    "ax[2].set_title(\"Histogram with 10,000 draws\")\n",
    "ax[2].hist(draws_10000)\n",
    "\n",
    "fig.tight_layout()"
   ]
  },
  {
   "cell_type": "markdown",
   "metadata": {},
   "source": [
    "\n",
    "<a id='exercise-0'></a>\n",
    "> See exercise 1 in the [*exercise list*](#exerciselist-0)"
   ]
  },
  {
   "cell_type": "code",
   "execution_count": 9,
   "metadata": {},
   "outputs": [
    {
     "data": {
      "text/plain": [
       "(0, 1)"
      ]
     },
     "execution_count": 9,
     "metadata": {},
     "output_type": "execute_result"
    },
    {
     "data": {
      "image/png": "[encoded data removed]",
      "text/plain": [
       "<Figure size 432x288 with 1 Axes>"
      ]
     },
     "metadata": {
      "needs_background": "light"
     },
     "output_type": "display_data"
    }
   ],
   "source": [
    "def uniform_simulate(T):\n",
    "    x = np.random.rand(T)\n",
    "    x_mean = x.mean()\n",
    "    x_var = x.var()\n",
    "    \n",
    "    return x_mean, x_var\n",
    "\n",
    "\n",
    "def simulation_plot(N):\n",
    "    result_series = np.array([uniform_simulate(n) for n in range(1, N)])\n",
    "    \n",
    "    return result_series\n",
    "\n",
    "size = 300\n",
    "result = simulation_plot(size)\n",
    "\n",
    "fig, ax = plt.subplots()\n",
    "ax.plot(result[:, 0], label = \"mean of samples drawn from Uniform(0, 1)\")\n",
    "ax.plot(result[:, 1], label = \"variance of samples drawn from Uniform(0, 1)\")\n",
    "ax.set_xlabel(\"sample size\")\n",
    "ax.hlines(1/12, 1, size, color=\"black\", linestyle=\"solid\", linewidth = 2)\n",
    "ax.legend(loc = \"upper right\")\n",
    "ax.set_ylim(0, 1)"
   ]
  },
  {
   "cell_type": "markdown",
   "metadata": {},
   "source": [
    "### Discrete distributions\n",
    "\n",
    "Sometimes we will deal with variables of interest that can only take one of a\n",
    "few possible values\n",
    "\n",
    "We refer to this type of random variable as a discrete distribution\n",
    "\n",
    "For example, consider a company that makes small business loans\n",
    "\n",
    "Imagine that the loan requires a repayment of $ \\\\$25,000 $ and must be repaid 1 year\n",
    "after the loan was made\n",
    "\n",
    "The company discounts the future at 5%\n",
    "\n",
    "Additionally, the loans made are paid back in full with 75% probability,\n",
    "$ \\\\$12,500 $ of loan is repaid with probability 20%, and no repayment with 5%\n",
    "probability\n",
    "\n",
    "How much would the small business loan company be willing to loan small businesses if they’d like to\n",
    "– on average – break even?\n",
    "\n",
    "In this case, we can compute this by hand:\n",
    "\n",
    "The amount repaid, on average, is: $ 0.75(25,000) + 0.2(12,500) + 0.05(0) = 21,250 $\n",
    "\n",
    "Since we’ll receive that amount in one year, we have to discount it:\n",
    "$ \\frac{1}{1+0.05} 21,250 \\approx 20238 $\n",
    "\n",
    "We can now verify by simulating the outcomes of many loans"
   ]
  },
  {
   "cell_type": "code",
   "execution_count": 10,
   "metadata": {
    "hide-output": false
   },
   "outputs": [
    {
     "name": "stdout",
     "output_type": "stream",
     "text": [
      "20155.714285714283\n"
     ]
    }
   ],
   "source": [
    "# You'll see why we call it `_slow` soon :)\n",
    "def simulate_loan_repayments_slow(N, r=0.05, repayment_full=25_000.0,\n",
    "                                  repayment_part=12_500.0):\n",
    "    repayment_sims = np.zeros(N)\n",
    "    for i in range(N):\n",
    "        x = np.random.rand()  # Draw a random number\n",
    "\n",
    "        # Full repayment 75% of time\n",
    "        if x < 0.75:\n",
    "            repaid = repayment_full\n",
    "        elif x < 0.95:\n",
    "            repaid = repayment_part\n",
    "        else:\n",
    "            repaid = 0.0\n",
    "\n",
    "        repayment_sims[i] = (1 / (1 + r)) * repaid\n",
    "\n",
    "    return repayment_sims\n",
    "\n",
    "print(np.mean(simulate_loan_repayments_slow(25_000)))"
   ]
  },
  {
   "cell_type": "markdown",
   "metadata": {},
   "source": [
    "#### Aside: Vectorized computations\n",
    "\n",
    "The code above illustrates the concepts we were after, but is much slower than\n",
    "it needs to be\n",
    "\n",
    "Below is a version of our function that uses numpy arrays to do the computations\n",
    "instead of only storing the values"
   ]
  },
  {
   "cell_type": "code",
   "execution_count": 11,
   "metadata": {
    "hide-output": false
   },
   "outputs": [
    {
     "data": {
      "text/plain": [
       "21238.5"
      ]
     },
     "execution_count": 11,
     "metadata": {},
     "output_type": "execute_result"
    }
   ],
   "source": [
    "def simulate_loan_repayments(N, r=0.05, repayment_full=25_000.0,\n",
    "                             repayment_part=12_500.0):\n",
    "    \"\"\"\n",
    "    Simulate present value of N loans given values for discount rate and\n",
    "    repayment values\n",
    "    \"\"\"\n",
    "    random_numbers = np.random.rand(N)\n",
    "\n",
    "    # start as 0 -- no repayment\n",
    "    repayment_sims = np.zeros(N)\n",
    "\n",
    "    # adjust for full and partial repayment\n",
    "    partial = random_numbers <= 0.20\n",
    "    repayment_sims[partial] = repayment_part\n",
    "\n",
    "    full = ~partial & (random_numbers <= 0.95)\n",
    "    repayment_sims[full] = repayment_full\n",
    "\n",
    "    return repayment_sims\n",
    "\n",
    "np.mean(simulate_loan_repayments(25_000))"
   ]
  },
  {
   "cell_type": "markdown",
   "metadata": {},
   "source": [
    "We’ll quickly demonstrate the difference in time it takes to run both versions of our function:"
   ]
  },
  {
   "cell_type": "code",
   "execution_count": 12,
   "metadata": {
    "hide-output": false
   },
   "outputs": [
    {
     "name": "stdout",
     "output_type": "stream",
     "text": [
      "198 ms ± 7.82 ms per loop (mean ± std. dev. of 7 runs, 1 loop each)\n"
     ]
    }
   ],
   "source": [
    "%timeit simulate_loan_repayments_slow(250_000)"
   ]
  },
  {
   "cell_type": "code",
   "execution_count": 13,
   "metadata": {
    "hide-output": false
   },
   "outputs": [
    {
     "name": "stdout",
     "output_type": "stream",
     "text": [
      "6.95 ms ± 128 µs per loop (mean ± std. dev. of 7 runs, 100 loops each)\n"
     ]
    }
   ],
   "source": [
    "%timeit simulate_loan_repayments(250_000)"
   ]
  },
  {
   "cell_type": "markdown",
   "metadata": {},
   "source": [
    "The timings for my computer were 167 ms for `simulate_loan_repayments_slow` and 5.05 ms for\n",
    "`simulate_loan_repayments`\n",
    "\n",
    "This function is simple enough that both times are acceptable, but the 33x time difference could\n",
    "matter in a more complicated operation\n",
    "\n",
    "This illustrates a concept called *vectorization*, which is the name we give computations that\n",
    "operate on an entire array at a time\n",
    "\n",
    "In general numpy code that is *vectorized* will perform better than numpy code that operates on one\n",
    "element at a time\n",
    "\n",
    "For more information see the\n",
    "[QuantEcon lecture on performance Python](https://lectures.quantecon.org/py/numba.html) code"
   ]
  },
  {
   "cell_type": "markdown",
   "metadata": {},
   "source": [
    "#### Profitability threshold\n",
    "\n",
    "Rather than looking for the break even point, we might be interested in the largest loan size that\n",
    "ensures that in a year where we make 250 loans that we are profitable with 95% probability\n",
    "\n",
    "This is something that could be computed by hand, but it is much easier to get an answer through\n",
    "simulation!\n",
    "\n",
    "If we simulate 250 loans many times and keep track of what the outcomes look like then we can look\n",
    "at the the 5th percentile of total repayment to get the loan size needed for 95% probability of\n",
    "being profitable"
   ]
  },
  {
   "cell_type": "code",
   "execution_count": 14,
   "metadata": {
    "hide-output": false
   },
   "outputs": [
    {
     "name": "stdout",
     "output_type": "stream",
     "text": [
      "The largest loan size such that we were profitable 95% of time is\n",
      "19750.0\n"
     ]
    }
   ],
   "source": [
    "def simulate_year_of_loans(N=250, K=1000):\n",
    "\n",
    "    # Create array where we store the values\n",
    "    avg_repayments = np.zeros(K)\n",
    "    for year in range(K):\n",
    "\n",
    "        repaid_year = 0.0\n",
    "        n_loans = simulate_loan_repayments(N)\n",
    "        avg_repayments[year] = n_loans.mean()\n",
    "\n",
    "    return avg_repayments\n",
    "\n",
    "loan_repayment_outcomes = simulate_year_of_loans(N=250)\n",
    "\n",
    "# Think about why we use the 5th percentile of outcomes to\n",
    "# compute when we are profitable 95% of time\n",
    "lro_5 = np.percentile(loan_repayment_outcomes, 0.05)\n",
    "\n",
    "print(\"The largest loan size such that we were profitable 95% of time is\")\n",
    "print(lro_5)"
   ]
  },
  {
   "cell_type": "markdown",
   "metadata": {},
   "source": [
    "Now let’s consider what we could learn if our loan company had even more detailed information for\n",
    "how the life of their loans progressed"
   ]
  },
  {
   "cell_type": "markdown",
   "metadata": {},
   "source": [
    "#### Loan states\n",
    "\n",
    "Loans can have 3 potential statuses (or states):\n",
    "\n",
    "1. Repaying: Payments are being made on loan  \n",
    "1. Delinquency: No payments are currently being made, but they might be made in the future  \n",
    "1. Default: No payments are currently being made and no more payments will be made in future  \n",
    "\n",
    "\n",
    "The small business loans company knows the following:\n",
    "\n",
    "- If a loan is currently in repayment then it continues in repayment with 85% probability, it has a\n",
    "  10% probability of going into delinquency, and a 5% probability of going into default  \n",
    "- If a loan is currently in delinquency then it returns to repayment with 25% probability, it has a\n",
    "  60% probability of staying delinquent, and a 15% probability of going into default  \n",
    "- If a loan is currently in default then it has a 10% chance of returning, 0% chance of delinquency\n",
    "  and a 100% probability of staying in default.  \n",
    "\n",
    "\n",
    "For simplicity, let’s just imagine that 12 payments are made during the life of a loan even though\n",
    "this means people who experience delinquency won’t be required to repay their remaining balance\n",
    "\n",
    "Let’s write the code required to perform this dynamic simulation"
   ]
  },
  {
   "cell_type": "code",
   "execution_count": 15,
   "metadata": {
    "hide-output": false
   },
   "outputs": [],
   "source": [
    "def simulate_loan_lifetime(monthly_payment):\n",
    "\n",
    "    # Create arrays to store outputs\n",
    "    payments = np.zeros(12)\n",
    "    # Note: dtype 'U12' means a string with no more than 12 characters\n",
    "    statuses = np.array(4*[\"repaying\", \"delinquency\", \"default\"], dtype=\"U12\")\n",
    "\n",
    "    # Everyone is repaying during their first month\n",
    "    payments[0] = monthly_payment\n",
    "    statuses[0] = \"repaying\"\n",
    "\n",
    "    for month in range(1, 12):\n",
    "        rn = np.random.rand()\n",
    "\n",
    "        if (statuses[month-1] == \"repaying\"):\n",
    "            if rn < 0.85:\n",
    "                payments[month] = monthly_payment\n",
    "                statuses[month] = \"repaying\"\n",
    "            elif rn < 0.95:\n",
    "                payments[month] = 0.0\n",
    "                statuses[month] = \"delinquency\"\n",
    "            else:\n",
    "                payments[month] = 0.0\n",
    "                statuses[month] = \"default\"\n",
    "        elif (statuses[month-1] == \"delinquency\"):\n",
    "            if rn < 0.25:\n",
    "                payments[month] = monthly_payment\n",
    "                statuses[month] = \"repaying\"\n",
    "            elif rn < 0.85:\n",
    "                payments[month] = 0.0\n",
    "                statuses[month] = \"delinquency\"\n",
    "            else:\n",
    "                payments[month] = 0.0\n",
    "                statuses[month] = \"default\"\n",
    "        else:  # Default -- Stays in default after it gets there\n",
    "            payments[month] = 0.0\n",
    "            statuses[month] = \"default\"\n",
    "\n",
    "    return payments, statuses"
   ]
  },
  {
   "cell_type": "markdown",
   "metadata": {},
   "source": [
    "We can use this model of the world to answer even more questions than the last model!\n",
    "\n",
    "For example, we can think about things like\n",
    "\n",
    "- For the defaulted loans, how many payments did they make before going into default?  \n",
    "- For those who partially repaid, how much was repaid before the 12 months was over?  \n",
    "- etc…  \n",
    "\n",
    "\n",
    "Unbeknownst to you, we have just introduced a well known mathematical concept known as a Markov\n",
    "chain\n",
    "\n",
    "A Markov chain is a random process (Note: Random process is a sequence of random variables\n",
    "observed over time) where the probability of something happening tomorrow only depends on what we\n",
    "can observe today\n",
    "\n",
    "In our small business loan example, this just means that the small business loan’s repayment status\n",
    "tomorrow only depended on what its repayment status was today\n",
    "\n",
    "Markov chains often show up in economics and statistics so we decided a simple introduction would\n",
    "be helpful, but leave many details to the interested reader\n",
    "\n",
    "A Markov Chain is defined by three objects:\n",
    "\n",
    "1. A description of possible states and their associated value  \n",
    "1. A complete description of the probability of moving from one state to all other states  \n",
    "1. An initial distribution over the states (often a vector of all zeros except for a single 1 for\n",
    "  some particular state)  \n",
    "\n",
    "\n",
    "We’ll define each of these three things for the example above in the Python code below"
   ]
  },
  {
   "cell_type": "code",
   "execution_count": 16,
   "metadata": {
    "hide-output": false
   },
   "outputs": [],
   "source": [
    "# 1. State description\n",
    "state_values = [\"repaying\", \"delinquency\", \"default\"]\n",
    "\n",
    "# 2. Transition probabilities: encoded in a matrix (2d-array) where element [i, j]\n",
    "# is the probability of moving from state i to state j\n",
    "P = np.array([[0.85, 0.1, 0.05], [0.25, 0.6, 0.15], [0, 0, 1]])\n",
    "\n",
    "# 3. Initial distribution: assume loans start in repayment\n",
    "x0 = np.array([1, 0, 0])"
   ]
  },
  {
   "cell_type": "markdown",
   "metadata": {},
   "source": [
    "Now that we have these objects defined, we can use the a `MarkovChain` class from the\n",
    "[quantecon python library](https://github.com/QuantEcon/QuantEcon.py/) to analyze this model"
   ]
  },
  {
   "cell_type": "code",
   "execution_count": 17,
   "metadata": {
    "hide-output": false
   },
   "outputs": [],
   "source": [
    "import quantecon as qe\n",
    "\n",
    "mc = qe.markov.MarkovChain(P, state_values)"
   ]
  },
  {
   "cell_type": "markdown",
   "metadata": {},
   "source": [
    "We can use the `mc` object to do common Markov Chain operations\n",
    "\n",
    "The `simulate` method will simulate the markov chain for a specified number of steps:"
   ]
  },
  {
   "cell_type": "code",
   "execution_count": 18,
   "metadata": {
    "hide-output": false
   },
   "outputs": [
    {
     "data": {
      "text/plain": [
       "array(['repaying', 'repaying', 'repaying', 'default', 'default',\n",
       "       'default', 'default', 'default', 'default', 'default', 'default',\n",
       "       'default'], dtype='<U11')"
      ]
     },
     "execution_count": 18,
     "metadata": {},
     "output_type": "execute_result"
    }
   ],
   "source": [
    "mc.simulate(12, init=\"repaying\")"
   ]
  },
  {
   "cell_type": "markdown",
   "metadata": {},
   "source": [
    "Suppose we were to simulate the Markov chain for an infinite number of steps\n",
    "\n",
    "Given the random nature of transitions, we might end up taking different paths at each moment in time\n",
    "\n",
    "We can summarize all possible paths over time by keeping track of a distribution\n",
    "\n",
    "Below we will print out what the distribution looks like for the first 10 time steps,\n",
    "starting from a distribution where the debtor is repaying in the first step"
   ]
  },
  {
   "cell_type": "code",
   "execution_count": 19,
   "metadata": {
    "hide-output": false
   },
   "outputs": [
    {
     "name": "stdout",
     "output_type": "stream",
     "text": [
      "At time 0 the distribution is [1 0 0]\n",
      "At time 1 the distribution is [0.85 0.1  0.05]\n",
      "At time 2 the distribution is [0.7475 0.145  0.1075]\n",
      "At time 3 the distribution is [0.671625 0.16175  0.166625]\n",
      "At time 4 the distribution is [0.61131875 0.1642125  0.22446875]\n",
      "At time 5 the distribution is [0.56067406 0.15965937 0.27966656]\n",
      "At time 6 the distribution is [0.5164878  0.15186303 0.33164917]\n",
      "At time 7 the distribution is [0.47698039 0.1427666  0.38025302]\n",
      "At time 8 the distribution is [0.44112498 0.133358   0.42551703]\n",
      "At time 9 the distribution is [0.40829573 0.1241273  0.46757697]\n"
     ]
    }
   ],
   "source": [
    "x = x0\n",
    "for t in range(10):\n",
    "    print(f\"At time {t} the distribution is {x}\")\n",
    "    x = mc.P.T @ x"
   ]
  },
  {
   "cell_type": "markdown",
   "metadata": {},
   "source": [
    "\n",
    "<a id='exercise-1'></a>\n",
    "> See exercise 2 in the [*exercise list*](#exerciselist-0)\n",
    "\n",
    "\n",
    "\n",
    "<a id='exercise-2'></a>\n",
    "> See exercise 3 in the [*exercise list*](#exerciselist-0)"
   ]
  },
  {
   "cell_type": "markdown",
   "metadata": {},
   "source": [
    "### Continuous distributions\n",
    "\n",
    "Recall that a continuous distribution is a distribution where the value can take on an uncountable number of values\n",
    "\n",
    "It differs from a discrete distribution in the sense that the events are not\n",
    "countable\n",
    "\n",
    "We can use simulation to learn things about continuous distributions just like we did with discrete\n",
    "distributions\n",
    "\n",
    "Let’s use simulation to study what is arguably the most commonly encountered\n",
    "distributions – the Normal distribution\n",
    "\n",
    "The Normal (sometimes referred to as the Gaussian distribution) is bell shaped and is completely\n",
    "described by the mean and variance of the distribution\n",
    "\n",
    "The mean is often referred to as $ \\mu $ and the variance is often referred\n",
    "to as $ \\sigma^2 $\n",
    "\n",
    "Let’s take a look at the Normal distribution"
   ]
  },
  {
   "cell_type": "code",
   "execution_count": 25,
   "metadata": {
    "hide-output": false
   },
   "outputs": [
    {
     "data": {
      "text/plain": [
       "[<matplotlib.lines.Line2D at 0x21578dcf988>]"
      ]
     },
     "execution_count": 25,
     "metadata": {},
     "output_type": "execute_result"
    },
    {
     "data": {
      "image/png": "[encoded data removed]",
      "text/plain": [
       "<Figure size 432x288 with 1 Axes>"
      ]
     },
     "metadata": {
      "needs_background": "light"
     },
     "output_type": "display_data"
    }
   ],
   "source": [
    "# scipy is an extension of numpy and the stats\n",
    "# subpackage has tools for working with various probability distributions\n",
    "import scipy.stats as st\n",
    "\n",
    "x = np.linspace(-5, 5, 100)\n",
    "\n",
    "# NOTE: first argument to st.norm is mean, second is standard deviation sigma (not sigma^2)\n",
    "pdf_x = st.norm(0.0, 1.0).pdf(x)\n",
    "\n",
    "fig, ax = plt.subplots()\n",
    "\n",
    "ax.set_title(r\"Normal Distribution ($\\mu = 0, \\sigma = 1$)\")\n",
    "ax.plot(x, pdf_x)"
   ]
  },
  {
   "cell_type": "markdown",
   "metadata": {},
   "source": [
    "Another common continuous distribution used in economics is the Gamma distribution\n",
    "\n",
    "A Gamma distribution is defined for all positive numbers and is described by a shape\n",
    "parameter $ k $ and a scale parameter $ \\theta $\n",
    "\n",
    "Let’s see what the distribution looks like for various choices of $ k $ and $ \\theta $"
   ]
  },
  {
   "cell_type": "code",
   "execution_count": 26,
   "metadata": {
    "hide-output": false
   },
   "outputs": [
    {
     "data": {
      "image/png": "[encoded data removed]",
      "text/plain": [
       "<Figure size 720x432 with 1 Axes>"
      ]
     },
     "metadata": {
      "needs_background": "light"
     },
     "output_type": "display_data"
    }
   ],
   "source": [
    "def plot_gamma(k, theta, x, ax=None):\n",
    "    if ax is None:\n",
    "        _, ax = plt.subplots()\n",
    "\n",
    "    # scipy refers to the rate parameter beta as a scale parameter\n",
    "    pdf_x = st.gamma(k, scale=theta).pdf(x)\n",
    "    ax.plot(x, pdf_x, label=f\"k = {k}  theta = {theta}\")\n",
    "\n",
    "    return ax\n",
    "\n",
    "fig, ax = plt.subplots(figsize=(10, 6))\n",
    "x = np.linspace(0.1, 20, 130)\n",
    "plot_gamma(2.0, 1.0, x, ax)\n",
    "plot_gamma(3.0, 1.0, x, ax)\n",
    "plot_gamma(3.0, 2.0, x, ax)\n",
    "plot_gamma(3.0, 0.5, x, ax)\n",
    "ax.set_ylim((0, 0.6))\n",
    "ax.set_xlim((0, 20))\n",
    "ax.legend();"
   ]
  },
  {
   "cell_type": "markdown",
   "metadata": {},
   "source": [
    "\n",
    "<a id='exercise-3'></a>\n",
    "> See exercise 4 in the [*exercise list*](#exerciselist-0)"
   ]
  },
  {
   "cell_type": "markdown",
   "metadata": {},
   "source": [
    "## Exercises\n",
    "\n",
    "\n",
    "<a id='exerciselist-0'></a>\n",
    "**Exercise 1**\n",
    "\n",
    "Wikipedia, and other credible statistics sources, tell us that the mean and\n",
    "variance of the Uniform(0, 1) distribution are (1/2, 1/12) respectively\n",
    "\n",
    "How could we check whether the numpy random numbers approximate these\n",
    "values?\n",
    "\n",
    "([*back to text*](#exercise-0))\n",
    "\n",
    "**Exercise 2**\n",
    "\n",
    "In this exercise we explore the long-run, or stationary, distribution of the Markov chain\n",
    "\n",
    "The stationary distribution of a Markov Chain is the probability distribution that would\n",
    "result after an infinite number of steps *for any initial distribution*\n",
    "\n",
    "Mathematically, a stationary distribution $ x $ is a distribution where $ x = P'x $\n",
    "\n",
    "In the code cell below, use the `stationary_distributions` property of `mc` to\n",
    "determine the stationary distribution of our Markov chain\n",
    "\n",
    "After doing your computation, think about the answer... think about why our transition\n",
    "probabilities must lead to this outcome"
   ]
  },
  {
   "cell_type": "code",
   "execution_count": 21,
   "metadata": {
    "hide-output": false
   },
   "outputs": [
    {
     "data": {
      "text/plain": [
       "array([[0., 0., 1.]])"
      ]
     },
     "execution_count": 21,
     "metadata": {},
     "output_type": "execute_result"
    }
   ],
   "source": [
    "mc = qe.markov.MarkovChain(P, state_values)\n",
    "mc.stationary_distributions"
   ]
  },
  {
   "cell_type": "markdown",
   "metadata": {},
   "source": [
    "([*back to text*](#exercise-1))\n",
    "\n",
    "**Exercise 3**\n",
    "\n",
    "Let's revisit the unemployment example from the linear algebra lecture\n",
    "\n",
    "We'll repeat necessary details here\n",
    "\n",
    "Consider an economy where in any given year, $ \\alpha = 5\\% $ of workers lose their jobs, and\n",
    "$ \\phi = 10\\% $ of unemployed workers find a jobs\n",
    "\n",
    "Initially, 90% of the 1,000,000 workers are employed\n",
    "\n",
    "Also suppose that the average employed worker earns 10 dollars while an unemployed worker\n",
    "earns 1 dollar per period\n",
    "\n",
    "You now have four tasks:\n",
    "\n",
    "1. Represent this problem as a Markov chain by defining the three components defined above  \n",
    "1. Construct an instance of the quantecon MarkovChain using the objects defined in part 1  \n",
    "1. Simulate the Markov chain 30 times for 50 time periods and plot each chain over time (see\n",
    "  helper code below)  \n",
    "1. Determine what the average long run payment is for a worker in this setting (hint, think\n",
    "  about the stationary distribution)  "
   ]
  },
  {
   "cell_type": "code",
   "execution_count": 22,
   "metadata": {
    "hide-output": false
   },
   "outputs": [
    {
     "data": {
      "image/png": "[encoded data removed]",
      "text/plain": [
       "<Figure size 1080x864 with 30 Axes>"
      ]
     },
     "metadata": {
      "needs_background": "light"
     },
     "output_type": "display_data"
    }
   ],
   "source": [
    "# define components here\n",
    "\n",
    "transit = np.array([[0.95, 0.05], [0.1, 0.9]])\n",
    "x0 = np.array([900_000, 100_000])\n",
    "state_vals = np.array([\"employed\", \"unemployed\"])\n",
    "\n",
    "# construct markov chain\n",
    "\n",
    "mc_chain = qe.markov.MarkovChain(transit, state_vals)\n",
    "\n",
    "mc_chain.simulate(50, init = \"employed\", num_reps=30)\n",
    "sim = mc_chain.simulate(50, init = \"employed\", num_reps=30)\n",
    "sim = sim.reshape(5, 6, 50)\n",
    "\n",
    "fig, ax = plt.subplots(5, 6, figsize=(15, 12))\n",
    "\n",
    "for x in range(5):\n",
    "    for y in range(6):\n",
    "        ax[x, y].plot(range(50), sim[x, y, :], alpha = 0.4)\n",
    "\n",
    "\n",
    "# simulate (see docstring for how to do many repetitions of\n",
    "# the simulation in one function call)\n",
    "# uncomment the lines below and fill in the blanks\n",
    "# sim = XXXXX.simulate(XXXX)\n",
    "# fig, ax = plt.subplots(figsize=(10, 8))\n",
    "# ax.plot(range(50), sim.T, alpha=0.4)"
   ]
  },
  {
   "cell_type": "code",
   "execution_count": 24,
   "metadata": {},
   "outputs": [
    {
     "data": {
      "text/plain": [
       "6.999999999999999"
      ]
     },
     "execution_count": 24,
     "metadata": {},
     "output_type": "execute_result"
    }
   ],
   "source": [
    "# Long run average payment\n",
    "mc_chain.stationary_distributions\n",
    "stationary_prob = mc_chain.stationary_distributions[0,:]\n",
    "wage = np.array([10, 1])\n",
    "stationary_prob @ wage"
   ]
  },
  {
   "cell_type": "markdown",
   "metadata": {},
   "source": [
    "([*back to text*](#exercise-2))\n",
    "\n",
    "**Exercise 4**\n",
    "\n",
    "Assume you have been given the opportunity to choose between one of three financial assets\n",
    "\n",
    "You will be given the asset for free, allowed to hold it indefinitely, and will keep all payoffs\n",
    "\n",
    "Also assume the assets' payoffs are distributed as follows:\n",
    "\n",
    "1. Normal with $ \\mu = 10, \\sigma = 5 $  \n",
    "1. Gamma with $ k = 5.3, \\theta = 2 $  \n",
    "1. Gamma with $ k = 5, \\theta = 2 $  \n",
    "\n",
    "\n",
    "Use `scipy.stats` to answer the following questions:\n",
    "\n",
    "- Which asset has the highest average returns?  \n",
    "- Which asset has the highest median returns?  \n",
    "- Which asset has the lowest coefficient of variation (standard deviation divided by mean)?  \n",
    "- Which asset would you choose? Why? (hint: there is not a single right answer here, be creative\n",
    "  and express your preferences)  "
   ]
  },
  {
   "cell_type": "code",
   "execution_count": 28,
   "metadata": {
    "hide-output": false
   },
   "outputs": [
    {
     "name": "stdout",
     "output_type": "stream",
     "text": [
      "10.0\n",
      "10.6\n",
      "10.0\n",
      "9.941306258096537\n",
      "9.34181776559197\n",
      "0.5\n"
     ]
    }
   ],
   "source": [
    "print(st.norm(10, 5).mean())\n",
    "print(st.gamma(5.3, scale = 2).mean())\n",
    "print(st.gamma(5, scale = 2).mean())\n",
    "print(st.gamma(5.3, scale = 2).median())\n",
    "print(st.gamma(5, scale = 2).median())\n",
    "print(st.norm(10, 5).std()/st.norm(10, 5).mean())"
   ]
  },
  {
   "cell_type": "markdown",
   "metadata": {},
   "source": [
    "([*back to text*](#exercise-3))"
   ]
  }
 ],
 "metadata": {
  "filename": "randomness.rst",
  "kernelspec": {
   "display_name": "Python 3",
   "language": "python",
   "name": "python3"
  },
  "language_info": {
   "codemirror_mode": {
    "name": "ipython",
    "version": 3
   },
   "file_extension": ".py",
   "mimetype": "text/x-python",
   "name": "python",
   "nbconvert_exporter": "python",
   "pygments_lexer": "ipython3",
   "version": "3.7.4"
  },
  "title": "Randomness"
 },
 "nbformat": 4,
 "nbformat_minor": 2
}
